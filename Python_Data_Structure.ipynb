{
  "nbformat": 4,
  "nbformat_minor": 0,
  "metadata": {
    "colab": {
      "provenance": [],
      "collapsed_sections": [
        "Jy40jXaNHml2"
      ]
    },
    "kernelspec": {
      "name": "python3",
      "display_name": "Python 3"
    },
    "language_info": {
      "name": "python"
    }
  },
  "cells": [
    {
      "cell_type": "markdown",
      "source": [
        "# **Theoretical Questions**"
      ],
      "metadata": {
        "id": "fGpYaNR-HmAG"
      }
    },
    {
      "cell_type": "markdown",
      "source": [
        "1. What are data structures, and why are they important?\n",
        "* Data structures are systematic ways of organizing and storing data to facilitate efficient access and modification, playing a crucial role in programming by enabling developers to perform operations like insertion, deletion, and searching more effectively, thereby optimizing both runtime and memory usage.\n",
        "\n",
        "2. Explain the difference between mutable and immutable data types with examples.\n",
        "* Mutable data types, such as lists (e.g., my_list = [1, 2, 3]), can be modified after creation, allowing changes to their content, while immutable data types, like tuples (e.g., my_tuple = (1, 2, 3)), cannot be altered once created, ensuring that the data remains constant throughout its lifecycle.\n",
        "\n",
        "3. What are the main differences between lists and tuples in Python?\n",
        "* The primary differences between lists and tuples in Python are that lists are mutable, denoted by square brackets (e.g., [1, 2, 3]), and generally used for dynamic collections of items, whereas tuples are immutable, denoted by parentheses (e.g., (1, 2, 3)), offer faster performance due to their fixed size, and are used when a constant collection of data is needed.\n",
        "\n",
        "4. Describe how dictionaries store data.\n",
        "* Dictionaries store data as key-value pairs, where each unique key maps to a corresponding value, and they use a hash table internally to provide fast, efficient access, insertion, and deletion operations based on these keys.\n",
        "\n",
        "5. Why might you use a set instead of a list in Python?\n",
        "* You might use a set instead of a list when you need to ensure that all elements are unique and when you require faster membership testing, as sets automatically eliminate duplicate values and typically provide O(1) complexity for checking if an item is present.\n",
        "\n",
        "6. What is a string in Python, and how is it different from a list?\n",
        "* A string in Python is an immutable sequence of characters (e.g., \"hello\"), meaning it cannot be altered once defined, whereas a list is a mutable sequence that can contain elements of various data types (e.g., ['h', 'e', 'l', 'l', 'o']), allowing modifications such as adding, removing, or changing items.\n",
        "\n",
        "7. How do tuples ensure data integrity in Python?\n",
        "* Tuples ensure data integrity by being immutable, meaning once they are created their contents cannot be modified, which helps to prevent accidental changes and makes them reliable for storing constant sets of data that should remain unchanged.\n",
        "\n",
        "8. What is a hash table, and how does it relate to dictionaries in Python?\n",
        "* A hash table is a data structure that maps keys to values using a hash function to compute an index into an array of buckets, and it forms the underlying mechanism for Python dictionaries, enabling them to perform fast O(1) average-time lookups by key.\n",
        "\n",
        "9. Can lists contain different data types in Python?\n",
        "* Yes, lists in Python are heterogeneous, meaning they can contain elements of different data types, such as integers, strings, floats, and even other lists, allowing for versatile and dynamic collections of items.\n",
        "\n",
        "10. Explain why strings are immutable in Python.\n",
        "* Strings are immutable in Python to ensure that their content remains constant after creation, which is important for maintaining data integrity, enabling safe reuse as dictionary keys, and contributing to memory efficiency and thread safety.\n",
        "\n",
        "11. What advantages do dictionaries offer over lists for certain tasks?\n",
        "* Dictionaries offer significant advantages over lists for tasks that require fast lookups, direct access to elements via unique keys, and the organization of data into key-value pairs, which can simplify operations such as searching and updating data without the need for iterative scanning.\n",
        "\n",
        "12. Describe a scenario where using a tuple would be preferable over a list.\n",
        "* Using a tuple would be preferable over a list when you need to store a fixed collection of items that should not change, such as the coordinates of a point or the days of the week, or when you need to use the collection as a key in a dictionary because its immutability guarantees data integrity.\n",
        "\n",
        "13. How do sets handle duplicate values in Python?\n",
        "* Sets in Python automatically eliminate duplicate values by storing only one instance of each element, ensuring that every item in the set is unique and thereby facilitating operations where duplicate-free collections are necessary.\n",
        "\n",
        "14. How does the “in” keyword work differently for lists and dictionaries?\n",
        "* The “in” keyword in Python checks for membership in different ways: in lists, it searches through the elements to see if a value is present, whereas in dictionaries it checks for the existence of a key, not a value, leveraging the underlying hash table for faster lookup.\n",
        "\n",
        "15. Can you modify the elements of a tuple? Explain why or why not.\n",
        "* No, you cannot modify the elements of a tuple because tuples are immutable, meaning that once they are created, their content cannot be changed, which helps maintain data consistency and integrity.\n",
        "\n",
        "16. What is a nested dictionary, and give an example of its use case.\n",
        "* A nested dictionary is a dictionary where one or more of its values are also dictionaries, which is useful for representing complex data structures such as a database of student records where each student’s details (name, marks, etc.) are stored as a dictionary within a larger dictionary keyed by student IDs.\n",
        "\n",
        "17. Describe the time complexity of accessing elements in a dictionary.\n",
        "* The average time complexity for accessing elements in a dictionary is O(1) due to its hash table implementation, although in the worst-case scenario, due to hash collisions, it can degrade to O(n), though such cases are rare.\n",
        "\n",
        "18. In what situations are lists preferred over dictionaries?\n",
        "* Lists are preferred over dictionaries when order is important or when you are simply managing a collection of items that do not require key-based access, such as iterating over sequences or when the data structure is small and the overhead of key-value mapping is unnecessary.\n",
        "\n",
        "19. Why are dictionaries considered unordered, and how does that affect data retrieval?\n",
        "* Dictionaries were traditionally considered unordered because they did not guarantee the preservation of insertion order (prior to Python 3.7), meaning that the order of elements could not be relied upon, although data retrieval by key remains efficient; in modern Python versions, dictionaries maintain insertion order, but this order is not used to influence the performance of lookups.\n",
        "\n",
        "20. Explain the difference between a list and a dictionary in terms of data retrieval.\n",
        "* Data retrieval in a list is based on the index position of elements, making it straightforward but sometimes less efficient for searching arbitrary values, while in a dictionary, retrieval is performed using unique keys that map directly to values, providing much faster access and more intuitive data association in cases where keys have semantic meaning."
      ],
      "metadata": {
        "id": "jEhj4THFHmpQ"
      }
    },
    {
      "cell_type": "markdown",
      "source": [
        "# Practical Problem"
      ],
      "metadata": {
        "id": "Jy40jXaNHml2"
      }
    },
    {
      "cell_type": "code",
      "execution_count": null,
      "metadata": {
        "colab": {
          "base_uri": "https://localhost:8080/"
        },
        "id": "-0obeZnfHbjn",
        "outputId": "535bc057-f553-45ac-a249-58ec80b2ec12"
      },
      "outputs": [
        {
          "output_type": "stream",
          "name": "stdout",
          "text": [
            "Suneeth\n"
          ]
        }
      ],
      "source": [
        "# Q1: Write a code to create a string with your name and print it\n",
        "name_str = \"Suneeth\"\n",
        "print(name_str)"
      ]
    },
    {
      "cell_type": "code",
      "source": [
        "# Q2: Write a code to find the length of the string \"Hello World\"\n",
        "hello_str = \"Hello World\"\n",
        "print(len(hello_str))"
      ],
      "metadata": {
        "colab": {
          "base_uri": "https://localhost:8080/"
        },
        "id": "PY_a_hNDH4Np",
        "outputId": "77f23004-8bf0-4f3e-88ad-74ed33857e40"
      },
      "execution_count": null,
      "outputs": [
        {
          "output_type": "stream",
          "name": "stdout",
          "text": [
            "11\n"
          ]
        }
      ]
    },
    {
      "cell_type": "code",
      "source": [
        "# Q3: Write a code to slice the first 3 characters from the string \"Python Programming\"\n",
        "python_prog = \"Python Programming\"\n",
        "print(python_prog[:3])"
      ],
      "metadata": {
        "colab": {
          "base_uri": "https://localhost:8080/"
        },
        "id": "-gwVNhpYH4QR",
        "outputId": "f4f3742b-7196-446b-82e4-bbc9139bcc0b"
      },
      "execution_count": null,
      "outputs": [
        {
          "output_type": "stream",
          "name": "stdout",
          "text": [
            "Pyt\n"
          ]
        }
      ]
    },
    {
      "cell_type": "code",
      "source": [
        "# Q4: Write a code to convert the string \"hello\" to uppercase\n",
        "hello = \"hello\"\n",
        "print(hello.upper())"
      ],
      "metadata": {
        "colab": {
          "base_uri": "https://localhost:8080/"
        },
        "id": "tPMRczE5H4Vx",
        "outputId": "edbe6dea-1179-408e-c7b0-b5ceef275670"
      },
      "execution_count": null,
      "outputs": [
        {
          "output_type": "stream",
          "name": "stdout",
          "text": [
            "HELLO\n"
          ]
        }
      ]
    },
    {
      "cell_type": "code",
      "source": [
        "# Q5: Write a code to replace the word \"apple\" with \"orange\" in the string \"I like apple\"\n",
        "fruit_str = \"I like apple\"\n",
        "print(fruit_str.replace(\"apple\", \"orange\"))"
      ],
      "metadata": {
        "colab": {
          "base_uri": "https://localhost:8080/"
        },
        "id": "4xQqBtFqH4YP",
        "outputId": "3c023fc0-d186-41b6-e70b-bd3f079e52bb"
      },
      "execution_count": null,
      "outputs": [
        {
          "output_type": "stream",
          "name": "stdout",
          "text": [
            "I like orange\n"
          ]
        }
      ]
    },
    {
      "cell_type": "code",
      "source": [
        "# Q6: Write a code to create a list with numbers 1 to 5 and print it\n",
        "num_list = [1, 2, 3, 4, 5]\n",
        "print(num_list)"
      ],
      "metadata": {
        "colab": {
          "base_uri": "https://localhost:8080/"
        },
        "id": "D-3f1PNqH4aP",
        "outputId": "26ae708c-685a-413e-ea0e-8e741421be90"
      },
      "execution_count": null,
      "outputs": [
        {
          "output_type": "stream",
          "name": "stdout",
          "text": [
            "[1, 2, 3, 4, 5]\n"
          ]
        }
      ]
    },
    {
      "cell_type": "code",
      "source": [
        "# Q7: Write a code to append the number 10 to the list [1, 2, 3, 4]\n",
        "append_list = [1, 2, 3, 4]\n",
        "append_list.append(10)\n",
        "print(append_list)"
      ],
      "metadata": {
        "colab": {
          "base_uri": "https://localhost:8080/"
        },
        "id": "qHPQ7PZnH4ck",
        "outputId": "648f5fcd-98c3-4c60-a81f-9bab619d577f"
      },
      "execution_count": null,
      "outputs": [
        {
          "output_type": "stream",
          "name": "stdout",
          "text": [
            "[1, 2, 3, 4, 10]\n"
          ]
        }
      ]
    },
    {
      "cell_type": "code",
      "source": [
        "# Q8: Write a code to remove the number 3 from the list [1, 2, 3, 4, 5]\n",
        "remove_list = [1, 2, 3, 4, 5]\n",
        "remove_list.remove(3)\n",
        "print(remove_list)"
      ],
      "metadata": {
        "colab": {
          "base_uri": "https://localhost:8080/"
        },
        "id": "Oy9FYyIOH4ed",
        "outputId": "d019f4ad-72aa-4b8e-b2c6-8ec09883af9e"
      },
      "execution_count": null,
      "outputs": [
        {
          "output_type": "stream",
          "name": "stdout",
          "text": [
            "[1, 2, 4, 5]\n"
          ]
        }
      ]
    },
    {
      "cell_type": "code",
      "source": [
        "# Q9: Write a code to access the second element in the list ['a', 'b', 'c', 'd']\n",
        "char_list = ['a', 'b', 'c', 'd']\n",
        "print(char_list[1])"
      ],
      "metadata": {
        "colab": {
          "base_uri": "https://localhost:8080/"
        },
        "id": "P20-yDBTH4hB",
        "outputId": "6dc6efa1-84d3-4d92-fdb0-c2494eafc299"
      },
      "execution_count": null,
      "outputs": [
        {
          "output_type": "stream",
          "name": "stdout",
          "text": [
            "b\n"
          ]
        }
      ]
    },
    {
      "cell_type": "code",
      "source": [
        "# Q10: Write a code to reverse the list [10, 20, 30, 40, 50]\n",
        "rev_list = [10, 20, 30, 40, 50]\n",
        "rev_list.reverse()\n",
        "print(rev_list)"
      ],
      "metadata": {
        "colab": {
          "base_uri": "https://localhost:8080/"
        },
        "id": "-Uz_RYBpH4kA",
        "outputId": "72ece0c5-886a-42f4-c27a-21be1f668ee3"
      },
      "execution_count": null,
      "outputs": [
        {
          "output_type": "stream",
          "name": "stdout",
          "text": [
            "[50, 40, 30, 20, 10]\n"
          ]
        }
      ]
    },
    {
      "cell_type": "code",
      "source": [
        "# Q11: Write a code to create a tuple with the elements 100, 200, 300 and print it.\n",
        "num_tuple = (100, 200, 300)\n",
        "print(num_tuple)"
      ],
      "metadata": {
        "colab": {
          "base_uri": "https://localhost:8080/"
        },
        "id": "2kcHMARYH4mw",
        "outputId": "d28dcdfd-753f-4e25-c532-21202bd423c2"
      },
      "execution_count": null,
      "outputs": [
        {
          "output_type": "stream",
          "name": "stdout",
          "text": [
            "(100, 200, 300)\n"
          ]
        }
      ]
    },
    {
      "cell_type": "code",
      "source": [
        "# Q12: Write a code to access the second-to-last element of the tuple ('red', 'green', 'blue', 'yellow').\n",
        "colors = ('red', 'green', 'blue', 'yellow')\n",
        "print(colors[-2])"
      ],
      "metadata": {
        "colab": {
          "base_uri": "https://localhost:8080/"
        },
        "id": "OsWsqfgJH4o_",
        "outputId": "623a98dc-5745-4f18-9473-83850a337b08"
      },
      "execution_count": null,
      "outputs": [
        {
          "output_type": "stream",
          "name": "stdout",
          "text": [
            "blue\n"
          ]
        }
      ]
    },
    {
      "cell_type": "code",
      "source": [
        "# Q13: Write a code to find the minimum number in the tuple (10, 20, 5, 15).\n",
        "num_tuple2 = (10, 20, 5, 15)\n",
        "print(min(num_tuple2))"
      ],
      "metadata": {
        "colab": {
          "base_uri": "https://localhost:8080/"
        },
        "id": "xPKWkeI_H4rk",
        "outputId": "7e9fc063-afe2-4f90-ae3c-a4dd8a2d11b9"
      },
      "execution_count": null,
      "outputs": [
        {
          "output_type": "stream",
          "name": "stdout",
          "text": [
            "5\n"
          ]
        }
      ]
    },
    {
      "cell_type": "code",
      "source": [
        "# Q14: Write a code to find the index of the element \"cat\" in the tuple ('dog', 'cat', 'rabbit').\n",
        "animals = ('dog', 'cat', 'rabbit')\n",
        "print(animals.index(\"cat\"))"
      ],
      "metadata": {
        "colab": {
          "base_uri": "https://localhost:8080/"
        },
        "id": "7deVOJFOH4wV",
        "outputId": "44023914-6c68-44b9-d77c-1cf9dd7e5b4d"
      },
      "execution_count": null,
      "outputs": [
        {
          "output_type": "stream",
          "name": "stdout",
          "text": [
            "1\n"
          ]
        }
      ]
    },
    {
      "cell_type": "code",
      "source": [
        "# Q15: Write a code to create a tuple containing three different fruits and check if \"kiwi\" is in it.\n",
        "fruits = ('apple', 'banana', 'cherry')\n",
        "print(\"kiwi\" in fruits)"
      ],
      "metadata": {
        "colab": {
          "base_uri": "https://localhost:8080/"
        },
        "id": "-rY81o1hH4ym",
        "outputId": "1b2d14cf-4ee5-47ed-b74a-7a58d38e0dff"
      },
      "execution_count": null,
      "outputs": [
        {
          "output_type": "stream",
          "name": "stdout",
          "text": [
            "False\n"
          ]
        }
      ]
    },
    {
      "cell_type": "code",
      "source": [
        "# Q16: Write a code to create a set with the elements 'a', 'b', 'c' and print it.\n",
        "char_set = {'a', 'b', 'c'}\n",
        "print(char_set)"
      ],
      "metadata": {
        "colab": {
          "base_uri": "https://localhost:8080/"
        },
        "id": "0NQwM0XcH40y",
        "outputId": "51df4869-e6a7-4f01-e8e3-96426ba80c7e"
      },
      "execution_count": null,
      "outputs": [
        {
          "output_type": "stream",
          "name": "stdout",
          "text": [
            "{'c', 'a', 'b'}\n"
          ]
        }
      ]
    },
    {
      "cell_type": "code",
      "source": [
        "# Q17: Write a code to clear all elements from the set {1, 2, 3, 4, 5}.\n",
        "num_set = {1, 2, 3, 4, 5}\n",
        "num_set.clear()\n",
        "print(num_set)"
      ],
      "metadata": {
        "colab": {
          "base_uri": "https://localhost:8080/"
        },
        "id": "Q5dprbR8H43S",
        "outputId": "7004fdfb-1c32-4bcd-a0bc-70c30ae6b730"
      },
      "execution_count": null,
      "outputs": [
        {
          "output_type": "stream",
          "name": "stdout",
          "text": [
            "set()\n"
          ]
        }
      ]
    },
    {
      "cell_type": "code",
      "source": [
        "# Q18: Write a code to remove the element 4 from the set {1, 2, 3, 4}.\n",
        "num_set2 = {1, 2, 3, 4}\n",
        "num_set2.remove(4)\n",
        "print(num_set2)"
      ],
      "metadata": {
        "colab": {
          "base_uri": "https://localhost:8080/"
        },
        "id": "2b0NcQ3WH453",
        "outputId": "9b52cb7a-fca9-4e86-e373-243e38fc998c"
      },
      "execution_count": null,
      "outputs": [
        {
          "output_type": "stream",
          "name": "stdout",
          "text": [
            "{1, 2, 3}\n"
          ]
        }
      ]
    },
    {
      "cell_type": "code",
      "source": [
        "# Q19: Write a code to find the union of two sets {1, 2, 3} and {3, 4, 5}.\n",
        "set1 = {1, 2, 3}\n",
        "set2 = {3, 4, 5}\n",
        "print(set1.union(set2))"
      ],
      "metadata": {
        "colab": {
          "base_uri": "https://localhost:8080/"
        },
        "id": "EasGHVqHH48S",
        "outputId": "132ee401-2962-4c99-8458-6f1301ddecb0"
      },
      "execution_count": null,
      "outputs": [
        {
          "output_type": "stream",
          "name": "stdout",
          "text": [
            "{1, 2, 3, 4, 5}\n"
          ]
        }
      ]
    },
    {
      "cell_type": "code",
      "source": [
        "# Q20: Write a code to find the intersection of two sets {1, 2, 3} and {2, 3, 4}.\n",
        "set1 = {1, 2, 3}\n",
        "set2 = {2, 3, 4}\n",
        "print(set1.intersection(set2))"
      ],
      "metadata": {
        "colab": {
          "base_uri": "https://localhost:8080/"
        },
        "id": "dO43vhqoH4-w",
        "outputId": "efdb159f-dd5a-456b-aa43-dd7ea7f3a874"
      },
      "execution_count": null,
      "outputs": [
        {
          "output_type": "stream",
          "name": "stdout",
          "text": [
            "{2, 3}\n"
          ]
        }
      ]
    },
    {
      "cell_type": "code",
      "source": [
        "# Q21: Write a code to create a dictionary with the keys \"name\", \"age\", and \"city\", and print it.\n",
        "person = {\"name\": \"Suneeth\", \"age\": 19, \"city\": \"Kadapa\"}\n",
        "print(person)"
      ],
      "metadata": {
        "colab": {
          "base_uri": "https://localhost:8080/"
        },
        "id": "ICSYYS2dH5BP",
        "outputId": "860b7dd8-09dd-4ed3-e030-ed0e269e01eb"
      },
      "execution_count": null,
      "outputs": [
        {
          "output_type": "stream",
          "name": "stdout",
          "text": [
            "{'name': 'Suneeth', 'age': 19, 'city': 'Kadapa'}\n"
          ]
        }
      ]
    },
    {
      "cell_type": "code",
      "source": [
        "# Q22: Write a code to add a new key-value pair \"country\": \"USA\" to the dictionary {'name': 'John', 'age': 25}.\n",
        "person2 = {'name': 'John', 'age': 25}\n",
        "person2[\"country\"] = \"USA\"\n",
        "print(person2)"
      ],
      "metadata": {
        "colab": {
          "base_uri": "https://localhost:8080/"
        },
        "id": "zypNB64lH5Dw",
        "outputId": "c7186d0b-4be9-49c0-ed5e-0ba654369070"
      },
      "execution_count": null,
      "outputs": [
        {
          "output_type": "stream",
          "name": "stdout",
          "text": [
            "{'name': 'John', 'age': 25, 'country': 'USA'}\n"
          ]
        }
      ]
    },
    {
      "cell_type": "code",
      "source": [
        "# Q23: Write a code to access the value associated with the key \"name\" in the dictionary {'name': 'Alice', 'age': 30}.\n",
        "person3 = {'name': 'Alice', 'age': 30}\n",
        "print(person3[\"name\"])"
      ],
      "metadata": {
        "colab": {
          "base_uri": "https://localhost:8080/"
        },
        "id": "R69PvQc5H5GO",
        "outputId": "0f4f20d3-4aef-437b-cc1d-bc8ecf5aaae2"
      },
      "execution_count": null,
      "outputs": [
        {
          "output_type": "stream",
          "name": "stdout",
          "text": [
            "Alice\n"
          ]
        }
      ]
    },
    {
      "cell_type": "code",
      "source": [
        "# Q24: Write a code to remove the key \"age\" from the dictionary {'name': 'Bob', 'age': 22, 'city': 'New York'}.\n",
        "person4 = {'name': 'Bob', 'age': 22, 'city': 'New York'}\n",
        "person4.pop(\"age\")\n",
        "print(person4)"
      ],
      "metadata": {
        "colab": {
          "base_uri": "https://localhost:8080/"
        },
        "id": "gtkEN8dTH5Is",
        "outputId": "03ea47ff-1776-4e1c-c2e4-bff4badc70e2"
      },
      "execution_count": null,
      "outputs": [
        {
          "output_type": "stream",
          "name": "stdout",
          "text": [
            "{'name': 'Bob', 'city': 'New York'}\n"
          ]
        }
      ]
    },
    {
      "cell_type": "code",
      "source": [
        "# Q25: Write a code to check if the key \"city\" exists in the dictionary {'name': 'Alice', 'city': 'Paris'}.\n",
        "person5 = {'name': 'Alice', 'city': 'Paris'}\n",
        "print(\"city\" in person5)"
      ],
      "metadata": {
        "colab": {
          "base_uri": "https://localhost:8080/"
        },
        "id": "CbtCkgD0H5LO",
        "outputId": "3d739abd-641f-4f8a-e11e-4744b52d2c26"
      },
      "execution_count": null,
      "outputs": [
        {
          "output_type": "stream",
          "name": "stdout",
          "text": [
            "True\n"
          ]
        }
      ]
    },
    {
      "cell_type": "code",
      "source": [
        "# Q26: Write a code to create a list, a tuple, and a dictionary, and print them all.\n",
        "sample_list = [1, 2, 3]\n",
        "sample_tuple = (4, 5, 6)\n",
        "sample_dict = {\"a\": 1, \"b\": 2}\n",
        "print(sample_list)\n",
        "print(sample_tuple)\n",
        "print(sample_dict)"
      ],
      "metadata": {
        "colab": {
          "base_uri": "https://localhost:8080/"
        },
        "id": "yvJxq7QIH5Nv",
        "outputId": "c41c405f-3ea9-4a81-c3fc-4c3e2a5c6eb8"
      },
      "execution_count": null,
      "outputs": [
        {
          "output_type": "stream",
          "name": "stdout",
          "text": [
            "[1, 2, 3]\n",
            "(4, 5, 6)\n",
            "{'a': 1, 'b': 2}\n"
          ]
        }
      ]
    },
    {
      "cell_type": "code",
      "source": [
        "# Q27: Write a code to create a list of 5 random numbers between 1 and 100, sort it in ascending order, and print the result.\n",
        "import random\n",
        "random_list = [random.randint(1, 100) for _ in range(5)]\n",
        "random_list.sort()\n",
        "print(random_list)"
      ],
      "metadata": {
        "colab": {
          "base_uri": "https://localhost:8080/"
        },
        "id": "tXGis40TH5QB",
        "outputId": "0ad1b98a-0a08-4af6-976f-7ee9a4b6fc71"
      },
      "execution_count": null,
      "outputs": [
        {
          "output_type": "stream",
          "name": "stdout",
          "text": [
            "[10, 70, 72, 89, 93]\n"
          ]
        }
      ]
    },
    {
      "cell_type": "code",
      "source": [
        "# Q28: Write a code to create a list with strings and print the element at the third index.\n",
        "string_list = [\"apple\", \"banana\", \"cherry\", \"date\", \"elderberry\"]\n",
        "print(string_list[3])"
      ],
      "metadata": {
        "colab": {
          "base_uri": "https://localhost:8080/"
        },
        "id": "csREPhJcISeL",
        "outputId": "4a7eb9d1-91d6-4444-fffe-f8acc171da3f"
      },
      "execution_count": null,
      "outputs": [
        {
          "output_type": "stream",
          "name": "stdout",
          "text": [
            "date\n"
          ]
        }
      ]
    },
    {
      "cell_type": "code",
      "source": [
        "# Q29: Write a code to combine two dictionaries into one and print the result.\n",
        "dict1 = {\"x\": 1, \"y\": 2}\n",
        "dict2 = {\"y\": 3, \"z\": 4}\n",
        "combined_dict = {**dict1, **dict2}\n",
        "print(combined_dict)"
      ],
      "metadata": {
        "colab": {
          "base_uri": "https://localhost:8080/"
        },
        "id": "8bn-p2WnIUR9",
        "outputId": "2838a9be-ede8-4619-b682-1e017cdea90d"
      },
      "execution_count": null,
      "outputs": [
        {
          "output_type": "stream",
          "name": "stdout",
          "text": [
            "{'x': 1, 'y': 3, 'z': 4}\n"
          ]
        }
      ]
    },
    {
      "cell_type": "code",
      "source": [
        "# Q30: Write a code to convert a list of strings into a set.\n",
        "string_list2 = [\"apple\", \"banana\", \"apple\", \"cherry\"]\n",
        "string_set = set(string_list2)\n",
        "print(string_set)"
      ],
      "metadata": {
        "colab": {
          "base_uri": "https://localhost:8080/"
        },
        "id": "hWzTVEnxIVBf",
        "outputId": "d5f8625c-ba8d-4f06-8ff0-60692bbcd340"
      },
      "execution_count": null,
      "outputs": [
        {
          "output_type": "stream",
          "name": "stdout",
          "text": [
            "{'banana', 'apple', 'cherry'}\n"
          ]
        }
      ]
    }
  ]
}